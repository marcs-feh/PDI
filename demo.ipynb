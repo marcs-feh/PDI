{
 "cells": [
  {
   "cell_type": "markdown",
   "metadata": {},
   "source": [
    "# Processamento de Imagens: Filtragem Pontual, Espacial e no Dominio da Frequencia\n"
   ]
  },
  {
   "cell_type": "code",
   "execution_count": 4,
   "metadata": {},
   "outputs": [],
   "source": [
    "import image_proc as ip\n",
    "import numpy as np\n",
    "\n",
    "original = ip.img_read('in.png')"
   ]
  },
  {
   "cell_type": "markdown",
   "metadata": {},
   "source": [
    "## Filtragem Pontual"
   ]
  },
  {
   "cell_type": "markdown",
   "metadata": {},
   "source": [
    "### Escala Cinza"
   ]
  },
  {
   "cell_type": "code",
   "execution_count": 5,
   "metadata": {},
   "outputs": [],
   "source": [
    "simple_gs = ip.grayscale_simple(original)\n",
    "weighted_gs = ip.grayscale_human_weighted(original)\n",
    "\n",
    "ip.img_write('out/grayscale_simple.png', simple_gs)\n",
    "ip.img_write('out/grayscale_weighted.png', weighted_gs)\n"
   ]
  },
  {
   "cell_type": "markdown",
   "metadata": {},
   "source": [
    "Resultados:\n",
    "\n",
    "Original:\n",
    "\n",
    "![original](./in.png)\n",
    "\n",
    "Simples:\n",
    "\n",
    "![simples](./out/grayscale_simple.png)\n",
    "\n",
    "Ponderada:\n",
    "\n",
    "![ponderada](./out/grayscale_weighted.png)"
   ]
  },
  {
   "cell_type": "markdown",
   "metadata": {},
   "source": [
    "### Brilho e Contraste"
   ]
  },
  {
   "cell_type": "code",
   "execution_count": 7,
   "metadata": {},
   "outputs": [],
   "source": [
    "adjusted = ip.brightness_and_contrast(original, -1, 2)\n",
    "\n",
    "ip.img_write('out/bright_and_constrast.png', adjusted)"
   ]
  },
  {
   "cell_type": "markdown",
   "metadata": {},
   "source": [
    "Original:\n",
    "\n",
    "![original](./in.png)\n",
    "\n",
    "Ajustada:\n",
    "\n",
    "![adjusted](./out/bright_and_constrast.png)"
   ]
  },
  {
   "cell_type": "markdown",
   "metadata": {},
   "source": [
    "## Filtragem Espacial"
   ]
  }
 ],
 "metadata": {
  "kernelspec": {
   "display_name": "Python 3",
   "language": "python",
   "name": "python3"
  },
  "language_info": {
   "codemirror_mode": {
    "name": "ipython",
    "version": 3
   },
   "file_extension": ".py",
   "mimetype": "text/x-python",
   "name": "python",
   "nbconvert_exporter": "python",
   "pygments_lexer": "ipython3",
   "version": "3.11.5"
  }
 },
 "nbformat": 4,
 "nbformat_minor": 2
}
