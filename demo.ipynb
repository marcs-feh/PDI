{
 "cells": [
  {
   "cell_type": "markdown",
   "metadata": {},
   "source": [
    "# Processamento de Imagens: Filtragem Pontual, Espacial e no Dominio da Frequencia\n"
   ]
  },
  {
   "cell_type": "code",
   "execution_count": 1,
   "metadata": {},
   "outputs": [],
   "source": [
    "import image_proc as ip\n",
    "import numpy as np\n",
    "from os import mkdir\n",
    "\n",
    "original = ip.img_read('in.png')\n",
    "try:\n",
    "  mkdir('./out')\n",
    "except FileExistsError:\n",
    "  pass"
   ]
  },
  {
   "cell_type": "markdown",
   "metadata": {},
   "source": [
    "## Filtragem Pontual"
   ]
  },
  {
   "cell_type": "markdown",
   "metadata": {},
   "source": [
    "### Escala Cinza"
   ]
  },
  {
   "cell_type": "code",
   "execution_count": 2,
   "metadata": {},
   "outputs": [],
   "source": [
    "simple_gs = ip.grayscale_simple(original)\n",
    "weighted_gs = ip.grayscale_human_weighted(original)\n",
    "\n",
    "ip.img_write('out/grayscale_simple.png', simple_gs)\n",
    "ip.img_write('out/grayscale_weighted.png', weighted_gs)\n"
   ]
  },
  {
   "cell_type": "markdown",
   "metadata": {},
   "source": [
    "Resultados:\n",
    "\n",
    "Original:\n",
    "\n",
    "![original](./in.png)\n",
    "\n",
    "Simples:\n",
    "\n",
    "![simples](./out/grayscale_simple.png)\n",
    "\n",
    "Ponderada:\n",
    "\n",
    "![ponderada](./out/grayscale_weighted.png)"
   ]
  },
  {
   "cell_type": "markdown",
   "metadata": {},
   "source": [
    "### Brilho, Contraste e Gama"
   ]
  },
  {
   "cell_type": "code",
   "execution_count": 3,
   "metadata": {},
   "outputs": [
    {
     "ename": "NameError",
     "evalue": "name 'img' is not defined",
     "output_type": "error",
     "traceback": [
      "\u001b[0;31m---------------------------------------------------------------------------\u001b[0m",
      "\u001b[0;31mNameError\u001b[0m                                 Traceback (most recent call last)",
      "\u001b[1;32m/home/marcos/uni/img-proc/processamento-image/demo.ipynb Cell 8\u001b[0m line \u001b[0;36m4\n\u001b[1;32m      <a href='vscode-notebook-cell:/home/marcos/uni/img-proc/processamento-image/demo.ipynb#X10sZmlsZQ%3D%3D?line=1'>2</a>\u001b[0m adjusted_gamma \u001b[39m=\u001b[39m ip\u001b[39m.\u001b[39mgamma(original, \u001b[39m0.6\u001b[39m)\n\u001b[1;32m      <a href='vscode-notebook-cell:/home/marcos/uni/img-proc/processamento-image/demo.ipynb#X10sZmlsZQ%3D%3D?line=2'>3</a>\u001b[0m adjusted_stretch \u001b[39m=\u001b[39m ip\u001b[39m.\u001b[39mcontrast_stretching(original)\n\u001b[0;32m----> <a href='vscode-notebook-cell:/home/marcos/uni/img-proc/processamento-image/demo.ipynb#X10sZmlsZQ%3D%3D?line=3'>4</a>\u001b[0m adjusted_log \u001b[39m=\u001b[39m ip\u001b[39m.\u001b[39mlog_transform(img, \u001b[39m0.7\u001b[39m)\n\u001b[1;32m      <a href='vscode-notebook-cell:/home/marcos/uni/img-proc/processamento-image/demo.ipynb#X10sZmlsZQ%3D%3D?line=5'>6</a>\u001b[0m ip\u001b[39m.\u001b[39mimg_write(\u001b[39m'\u001b[39m\u001b[39mout/bright_and_constrast.png\u001b[39m\u001b[39m'\u001b[39m, adjusted_bc)\n\u001b[1;32m      <a href='vscode-notebook-cell:/home/marcos/uni/img-proc/processamento-image/demo.ipynb#X10sZmlsZQ%3D%3D?line=6'>7</a>\u001b[0m ip\u001b[39m.\u001b[39mimg_write(\u001b[39m'\u001b[39m\u001b[39mout/gamma.png\u001b[39m\u001b[39m'\u001b[39m, adjusted_gamma)\n",
      "\u001b[0;31mNameError\u001b[0m: name 'img' is not defined"
     ]
    }
   ],
   "source": [
    "adjusted_bc = ip.brightness_and_contrast(original, -1, 2)\n",
    "adjusted_gamma = ip.gamma(original, 0.6)\n",
    "adjusted_stretch = ip.contrast_stretching(original)\n",
    "adjusted_log = ip.log_transform(img, 0.7)\n",
    "\n",
    "ip.img_write('out/bright_and_constrast.png', adjusted_bc)\n",
    "ip.img_write('out/gamma.png', adjusted_gamma)\n",
    "ip.img_write('out/contrast_stretch.png', adjusted_stretch)\n",
    "ip.img_write('out/log.png', adjusted_log)"
   ]
  },
  {
   "cell_type": "markdown",
   "metadata": {},
   "source": [
    "Original:\n",
    "\n",
    "![original](./in.png)\n",
    "\n",
    "Brilho e Contraste:\n",
    "\n",
    "![adjusted](./out/bright_and_constrast.png)\n",
    "\n",
    "Gama:\n",
    "\n",
    "![adjusted](./out/gamma.png)\n",
    "\n",
    "Alargamento de Contraste:\n",
    "\n",
    "![adjusted](./out/contrast_stretch.png)\n",
    "\n",
    "Logaritmo:\n",
    "\n",
    "![adjusted](./out/log.png)"
   ]
  },
  {
   "cell_type": "markdown",
   "metadata": {},
   "source": [
    "### Limiarizacao"
   ]
  },
  {
   "cell_type": "code",
   "execution_count": null,
   "metadata": {},
   "outputs": [],
   "source": [
    "img = ip.grayscale_human_weighted(original)\n",
    "adjusted_thresh = ip.threshold(img, 0.7, 1.0) # Fatiamento do plano que representa top 30% da luminosidade\n",
    "adjusted_thresh2 = ip.threshold(img, 0.4, 0.6)\n",
    "\n",
    "ip.img_write('out/threshold.png', adjusted_thresh)\n"
   ]
  },
  {
   "cell_type": "markdown",
   "metadata": {},
   "source": [
    "Original:\n",
    "\n",
    "![original](./in.png)\n",
    "\n",
    "Limiarizacao:\n",
    "\n",
    "![adjusted](./out/threshold.png)\n",
    "\n",
    "![adjusted](./out/threshold2.png)"
   ]
  },
  {
   "cell_type": "markdown",
   "metadata": {},
   "source": [
    "## Filtragem Espacial"
   ]
  },
  {
   "cell_type": "markdown",
   "metadata": {},
   "source": [
    "### Deteccao de Borda"
   ]
  },
  {
   "cell_type": "code",
   "execution_count": 4,
   "metadata": {},
   "outputs": [],
   "source": [
    "img = ip.grayscale_human_weighted(original)\n",
    "img = ip.gaussian_blur(img, 3, 1.2)\n",
    "\n",
    "edge_sobel = ip.sobel_edge_detect(img)\n",
    "edge_laplace = ip.laplacian_edge_detect(img)\n",
    "edge_roberts = ip.roberts_edge_detect(img)\n",
    "\n",
    "\n",
    "ip.img_write('out/edge_sobel.png', edge_sobel)\n",
    "ip.img_write('out/edge_laplace.png', edge_laplace)\n",
    "ip.img_write('out/edge_roberts.png', edge_roberts)"
   ]
  },
  {
   "cell_type": "markdown",
   "metadata": {},
   "source": [
    "Sobel:\n",
    "\n",
    "![adjusted](./out/edge_sobel.png)\n",
    "\n",
    "Laplace:\n",
    "\n",
    "![adjusted](./out/edge_laplace.png)\n",
    "\n",
    "Roberts:\n",
    "\n",
    "![adjusted](./out/edge_roberts.png)\n"
   ]
  }
 ],
 "metadata": {
  "kernelspec": {
   "display_name": "Python 3",
   "language": "python",
   "name": "python3"
  },
  "language_info": {
   "codemirror_mode": {
    "name": "ipython",
    "version": 3
   },
   "file_extension": ".py",
   "mimetype": "text/x-python",
   "name": "python",
   "nbconvert_exporter": "python",
   "pygments_lexer": "ipython3",
   "version": "3.11.5"
  }
 },
 "nbformat": 4,
 "nbformat_minor": 2
}
