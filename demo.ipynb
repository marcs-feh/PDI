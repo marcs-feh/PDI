{
 "cells": [
  {
   "cell_type": "markdown",
   "metadata": {},
   "source": [
    "# Processamento de Imagens: Filtragem Pontual, Espacial e no Dominio da Frequencia\n"
   ]
  },
  {
   "cell_type": "code",
   "execution_count": 15,
   "metadata": {},
   "outputs": [],
   "source": [
    "import image_proc as ip\n",
    "import numpy as np\n",
    "from os import mkdir\n",
    "\n",
    "original = ip.img_read('in.png')\n",
    "try:\n",
    "  mkdir('./out')\n",
    "except FileExistsError:\n",
    "  pass"
   ]
  },
  {
   "cell_type": "markdown",
   "metadata": {},
   "source": [
    "## Filtragem Pontual"
   ]
  },
  {
   "cell_type": "markdown",
   "metadata": {},
   "source": [
    "### Escala Cinza"
   ]
  },
  {
   "cell_type": "code",
   "execution_count": 16,
   "metadata": {},
   "outputs": [],
   "source": [
    "simple_gs = ip.grayscale_simple(original)\n",
    "weighted_gs = ip.grayscale_human_weighted(original)\n",
    "\n",
    "ip.img_write('out/grayscale_simple.png', simple_gs)\n",
    "ip.img_write('out/grayscale_weighted.png', weighted_gs)\n"
   ]
  },
  {
   "cell_type": "markdown",
   "metadata": {},
   "source": [
    "Resultados:\n",
    "\n",
    "Original:\n",
    "\n",
    "![original](./in.png)\n",
    "\n",
    "Simples:\n",
    "\n",
    "![simples](./out/grayscale_simple.png)\n",
    "\n",
    "Ponderada:\n",
    "\n",
    "![ponderada](./out/grayscale_weighted.png)"
   ]
  },
  {
   "cell_type": "markdown",
   "metadata": {},
   "source": [
    "### Brilho, Contraste e Gama"
   ]
  },
  {
   "cell_type": "code",
   "execution_count": 17,
   "metadata": {},
   "outputs": [],
   "source": [
    "adjusted_bc = ip.brightness_and_contrast(original, -1, 2)\n",
    "adjusted_gamma = ip.gamma(original, 0.6)\n",
    "adjusted_stretch = ip.contrast_stretching(original)\n",
    "adjusted_log = ip.log_transform(original, 0.7)\n",
    "\n",
    "ip.img_write('out/bright_and_constrast.png', adjusted_bc)\n",
    "ip.img_write('out/gamma.png', adjusted_gamma)\n",
    "ip.img_write('out/contrast_stretch.png', adjusted_stretch)\n",
    "ip.img_write('out/log.png', adjusted_log)"
   ]
  },
  {
   "cell_type": "markdown",
   "metadata": {},
   "source": [
    "Original:\n",
    "\n",
    "![original](./in.png)\n",
    "\n",
    "Brilho e Contraste:\n",
    "\n",
    "![adjusted](./out/bright_and_constrast.png)\n",
    "\n",
    "Gama:\n",
    "\n",
    "![adjusted](./out/gamma.png)\n",
    "\n",
    "Alargamento de Contraste:\n",
    "\n",
    "![adjusted](./out/contrast_stretch.png)\n",
    "\n",
    "Logaritmo:\n",
    "\n",
    "![adjusted](./out/log.png)"
   ]
  },
  {
   "cell_type": "markdown",
   "metadata": {},
   "source": [
    "### Limiarizacao"
   ]
  },
  {
   "cell_type": "code",
   "execution_count": 18,
   "metadata": {},
   "outputs": [],
   "source": [
    "img = ip.grayscale_human_weighted(original)\n",
    "adjusted_thresh = ip.threshold(img, 0.7, 1.0) # Fatiamento do plano que representa top 30% da luminosidade\n",
    "adjusted_thresh2 = ip.threshold(img, 0.4, 0.6)\n",
    "\n",
    "ip.img_write('out/threshold.png', adjusted_thresh)\n"
   ]
  },
  {
   "cell_type": "markdown",
   "metadata": {},
   "source": [
    "Original:\n",
    "\n",
    "![original](./in.png)\n",
    "\n",
    "Limiarizacao:\n",
    "\n",
    "![adjusted](./out/threshold.png)\n",
    "\n",
    "![adjusted](./out/threshold2.png)"
   ]
  },
  {
   "cell_type": "markdown",
   "metadata": {},
   "source": [
    "## Filtragem Espacial"
   ]
  },
  {
   "cell_type": "markdown",
   "metadata": {},
   "source": [
    "### Deteccao de Borda"
   ]
  },
  {
   "cell_type": "code",
   "execution_count": 19,
   "metadata": {},
   "outputs": [],
   "source": [
    "img = ip.grayscale_human_weighted(original)\n",
    "img = ip.gaussian_blur(img, 3, 1.2)\n",
    "\n",
    "edge_sobel = ip.sobel_edge_detect(img)\n",
    "edge_laplace = ip.laplacian_edge_detect(img)\n",
    "edge_roberts = ip.roberts_edge_detect(img)\n",
    "\n",
    "\n",
    "ip.img_write('out/edge_sobel.png', edge_sobel)\n",
    "ip.img_write('out/edge_laplace.png', edge_laplace)\n",
    "ip.img_write('out/edge_roberts.png', edge_roberts)"
   ]
  },
  {
   "cell_type": "markdown",
   "metadata": {},
   "source": [
    "Sobel:\n",
    "\n",
    "![adjusted](./out/edge_sobel.png)\n",
    "\n",
    "Laplace:\n",
    "\n",
    "![adjusted](./out/edge_laplace.png)\n",
    "\n",
    "Roberts:\n",
    "\n",
    "![adjusted](./out/edge_roberts.png)\n"
   ]
  },
  {
   "cell_type": "markdown",
   "metadata": {},
   "source": [
    "### Blur e Mediana"
   ]
  },
  {
   "cell_type": "code",
   "execution_count": 20,
   "metadata": {},
   "outputs": [],
   "source": [
    "mask_size = 3\n",
    "\n",
    "noisy = ip.gaussian_noise(ip.grayscale_human_weighted(original), 0.08)\n",
    "ip.img_write('out/noisy.png', noisy)\n",
    "\n",
    "gauss_blur = ip.gaussian_blur(noisy, mask_size, 1.7)\n",
    "uniform_blur = ip.uniform_blur(noisy, mask_size)\n",
    "median = ip.median_filter(noisy)\n",
    "\n",
    "ip.img_write('out/blur_gaussian.png', gauss_blur)\n",
    "ip.img_write('out/blur_uniform.png', uniform_blur)\n",
    "ip.img_write('out/median.png', median)"
   ]
  },
  {
   "cell_type": "markdown",
   "metadata": {},
   "source": [
    "Original(com ruido):\n",
    "\n",
    "![original](./out/noisy.png)\n",
    "\n",
    "Gaussiano:\n",
    "\n",
    "![adjusted](./out/blur_gaussian.png)\n",
    "\n",
    "Uniforme:\n",
    "\n",
    "![adjusted](./out/blur_uniform.png)\n",
    "\n",
    "Mediana:\n",
    "\n",
    "![adjusted](./out/median.png)"
   ]
  },
  {
   "cell_type": "markdown",
   "metadata": {},
   "source": [
    "### Sharpening"
   ]
  },
  {
   "cell_type": "code",
   "execution_count": 21,
   "metadata": {},
   "outputs": [],
   "source": [
    "mask_size = 5\n",
    "\n",
    "blurred = ip.gaussian_blur(original, mask_size, 1.2)\n",
    "ip.img_write('out/sharp_blurred.png', blurred)\n",
    "\n",
    "sharp_laplace = ip.laplacian_sharpening(blurred, -1.3)\n",
    "\n",
    "sharp_unsharp_mask = ip.unsharp_masking(blurred, 0.8, 1, 3)\n",
    "\n",
    "sharp_highboost = ip.unsharp_masking(blurred, 2.5, 1, 3)\n",
    "\n",
    "ip.img_write('out/sharp_laplace.png', sharp_laplace)\n",
    "ip.img_write('out/sharp_unsharp_mask.png', sharp_unsharp_mask)\n",
    "ip.img_write('out/sharp_highboost.png', sharp_highboost)\n"
   ]
  },
  {
   "cell_type": "markdown",
   "metadata": {},
   "source": [
    "Original(borrada):\n",
    "\n",
    "![adjusted](./out/sharp_blurred.png)\n",
    "\n",
    "Laplaciano:\n",
    "\n",
    "![adjusted](./out/sharp_laplace.png)\n",
    "\n",
    "Unsharp Masking:\n",
    "\n",
    "![adjusted](./out/sharp_unsharp_mask.png)\n",
    "\n",
    "Highboost Filtering:\n",
    "\n",
    "![adjusted](./out/sharp_highboost.png)"
   ]
  },
  {
   "cell_type": "markdown",
   "metadata": {},
   "source": [
    "## Filtragem no Dominio da Frequencia"
   ]
  },
  {
   "cell_type": "markdown",
   "metadata": {},
   "source": [
    "### Espectro do magnitude"
   ]
  },
  {
   "cell_type": "code",
   "execution_count": 22,
   "metadata": {},
   "outputs": [],
   "source": [
    "img = ip.grayscale_human_weighted(original)\n",
    "\n",
    "spec = ip.magnitude_spectrum(img)\n",
    "\n",
    "ip.img_write('./out/original_gs.png', img)\n",
    "ip.img_write('./out/original_gs_spec.png', spec)\n"
   ]
  },
  {
   "cell_type": "markdown",
   "metadata": {},
   "source": [
    "Original:\n",
    "\n",
    "![original](./out/original_gs.png)\n",
    "\n",
    "Espectro de Magnitude:\n",
    "\n",
    "![original](./out/original_gs_spec.png)"
   ]
  },
  {
   "cell_type": "markdown",
   "metadata": {},
   "source": [
    "### Filtros ideais"
   ]
  },
  {
   "cell_type": "code",
   "execution_count": 23,
   "metadata": {},
   "outputs": [],
   "source": [
    "low_pass = ip.low_pass_ideal_filter(img, 40)\n",
    "high_pass = ip.high_pass_ideal_filter(img, 50)\n",
    "band_pass = ip.band_pass_ideal_filter(img, 150, 200)\n",
    "\n",
    "ip.img_write('./out/ideal_low_pass.png', low_pass)\n",
    "ip.img_write('./out/ideal_high_pass.png', high_pass)\n",
    "ip.img_write('./out/ideal_band_pass.png', band_pass)"
   ]
  },
  {
   "cell_type": "markdown",
   "metadata": {},
   "source": [
    "Original:\n",
    "\n",
    "![original](./out/original_gs.png)\n",
    "\n",
    "Passa Baixa:\n",
    "\n",
    "![low pass](./out/ideal_low_pass.png)\n",
    "\n",
    "Passa Alta:\n",
    "\n",
    "![high pass](./out/ideal_high_pass.png)\n",
    "\n",
    "Passa Banda:\n",
    "\n",
    "![band pass](./out/ideal_band_pass.png)\n"
   ]
  },
  {
   "cell_type": "markdown",
   "metadata": {},
   "source": [
    "### Butterworth"
   ]
  },
  {
   "cell_type": "code",
   "execution_count": 24,
   "metadata": {},
   "outputs": [],
   "source": [
    "order = 2\n",
    "\n",
    "low_pass = ip.low_pass_butterworth_filter(img, 40, order)\n",
    "high_pass = ip.high_pass_butterworth_filter(img, 50, order)\n",
    "band_pass = ip.band_pass_butterworth_filter(img, 150, 200, order)\n",
    "\n",
    "ip.img_write('./out/butterworth_low_pass.png', low_pass)\n",
    "ip.img_write('./out/butterworth_high_pass.png', high_pass)\n",
    "ip.img_write('./out/butterworth_band_pass.png', band_pass)"
   ]
  },
  {
   "cell_type": "markdown",
   "metadata": {},
   "source": [
    "Original:\n",
    "\n",
    "![original](./out/original_gs.png)\n",
    "\n",
    "Passa Baixa:\n",
    "\n",
    "![low pass](./out/butterworth_low_pass.png)\n",
    "\n",
    "Passa Alta:\n",
    "\n",
    "![high pass](./out/butterworth_high_pass.png)\n",
    "\n",
    "Passa Banda:\n",
    "\n",
    "![band pass](./out/butterworth_band_pass.png)"
   ]
  },
  {
   "cell_type": "markdown",
   "metadata": {},
   "source": [
    "### Filtro Gaussiano"
   ]
  },
  {
   "cell_type": "code",
   "execution_count": 27,
   "metadata": {},
   "outputs": [],
   "source": [
    "low_pass = ip.low_pass_gaussian_filter(img, 40)\n",
    "high_pass = ip.high_pass_gaussian_filter(img, 50)\n",
    "band_pass = ip.band_pass_gaussian_filter(img, 150, 200)\n",
    "\n",
    "ip.img_write('./out/gaussian_low_pass.png', low_pass)\n",
    "ip.img_write('./out/gaussian_high_pass.png', high_pass)\n",
    "ip.img_write('./out/gaussian_band_pass.png', band_pass)"
   ]
  },
  {
   "cell_type": "markdown",
   "metadata": {},
   "source": [
    "Original:\n",
    "\n",
    "![original](./out/original_gs.png)\n",
    "\n",
    "Passa Baixa:\n",
    "\n",
    "![low pass](./out/gaussian_low_pass.png)\n",
    "\n",
    "Passa Alta:\n",
    "\n",
    "![high pass](./out/gaussian_high_pass.png)\n",
    "\n",
    "Passa Banda:\n",
    "\n",
    "![band pass](./out/gaussian_band_pass.png)"
   ]
  }
 ],
 "metadata": {
  "kernelspec": {
   "display_name": "Python 3",
   "language": "python",
   "name": "python3"
  },
  "language_info": {
   "codemirror_mode": {
    "name": "ipython",
    "version": 3
   },
   "file_extension": ".py",
   "mimetype": "text/x-python",
   "name": "python",
   "nbconvert_exporter": "python",
   "pygments_lexer": "ipython3",
   "version": "3.11.5"
  }
 },
 "nbformat": 4,
 "nbformat_minor": 2
}
