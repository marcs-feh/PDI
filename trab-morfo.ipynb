{
 "cells": [
  {
   "cell_type": "markdown",
   "metadata": {},
   "source": [
    " # Processamento Morfológico de Imagens\n",
    "\n",
    " Autores: Gabriel Abraham, Marcos Augusto Fehlauer Pereira"
   ]
  },
  {
   "cell_type": "code",
   "execution_count": 12,
   "metadata": {},
   "outputs": [],
   "source": [
    "import image_proc as ip\n",
    "import numpy as np\n",
    "\n",
    "#\n",
    "# AVISO: Implementacao no arquivo image_proc/morphological_filter\n",
    "#\n",
    "\n",
    "kernel = np.array(\n",
    "    [[1,1,1],\n",
    "    [1,1,1],\n",
    "    [1,1,1]],\n",
    "    dtype=np.float32\n",
    "); \n",
    "\n",
    "img = ip.img_read('in.png')\n",
    "img = ip.grayscale_simple(img)\n",
    "\n",
    "# Necessário Limializar primeiro\n",
    "out = ip.threshold(img, 0.3, 1000)\n",
    "\n",
    "out = ip.morph('erode', out, kernel)\n",
    "\n",
    "ip.img_write('out.1.png', out)\n",
    "\n"
   ]
  },
  {
   "cell_type": "markdown",
   "metadata": {},
   "source": [
    "Original\n",
    "\n",
    "![Imagem original](in.png)\n",
    "\n",
    "Erosão\n",
    "\n",
    "![Final](out.1.png)"
   ]
  },
  {
   "cell_type": "code",
   "execution_count": 13,
   "metadata": {},
   "outputs": [],
   "source": [
    "out = ip.morph('dilate', out, kernel)\n",
    "\n",
    "ip.img_write('out.2.png', out)"
   ]
  },
  {
   "cell_type": "markdown",
   "metadata": {},
   "source": [
    "Original\n",
    "\n",
    "![Imagem original](in.png)\n",
    "\n",
    "Erosão -> Dilatação (Abertura)\n",
    "\n",
    "![Final](out.2.png)"
   ]
  },
  {
   "cell_type": "code",
   "execution_count": 14,
   "metadata": {},
   "outputs": [],
   "source": [
    "out = ip.morph('dilate', out, kernel)\n",
    "\n",
    "ip.img_write('out.2.png', out)"
   ]
  },
  {
   "cell_type": "markdown",
   "metadata": {},
   "source": [
    "Original\n",
    "\n",
    "![Imagem original](in.png)\n",
    "\n",
    "Abertura -> Dilatação\n",
    "\n",
    "![Final](out.2.png)"
   ]
  },
  {
   "cell_type": "code",
   "execution_count": 15,
   "metadata": {},
   "outputs": [],
   "source": [
    "out = ip.morph('erode', out, kernel)\n",
    "\n",
    "ip.img_write('out.3.png', out)"
   ]
  },
  {
   "cell_type": "markdown",
   "metadata": {},
   "source": [
    "Original\n",
    "\n",
    "![Imagem original](in.png)\n",
    "\n",
    "Abertura -> Dilatação -> Erosão (Fechamento)\n",
    "\n",
    "![Final](out.3.png)"
   ]
  },
  {
   "cell_type": "code",
   "execution_count": 21,
   "metadata": {},
   "outputs": [],
   "source": [
    "out = ip.threshold(img, 0.3, 1000)\n",
    "out = ip.morph('open', out, kernel)\n",
    "out = ip.morph('close', out, kernel)\n",
    "\n",
    "out *= img # Devolver antialias da imagem\n",
    "\n",
    "ip.img_write('out.final.png', out)"
   ]
  },
  {
   "cell_type": "markdown",
   "metadata": {},
   "source": [
    "Original\n",
    "\n",
    "![Imagem original](in.png)\n",
    "\n",
    "Final\n",
    "\n",
    "![Final](out.final.png)"
   ]
  }
 ],
 "metadata": {
  "kernelspec": {
   "display_name": "Python 3",
   "language": "python",
   "name": "python3"
  },
  "language_info": {
   "codemirror_mode": {
    "name": "ipython",
    "version": 3
   },
   "file_extension": ".py",
   "mimetype": "text/x-python",
   "name": "python",
   "nbconvert_exporter": "python",
   "pygments_lexer": "ipython3",
   "version": "3.11.6"
  }
 },
 "nbformat": 4,
 "nbformat_minor": 2
}
